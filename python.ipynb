{
 "cells": [
  {
   "cell_type": "code",
   "execution_count": 5,
   "id": "bbe2bdc2-7fe5-4354-9369-f6d91fc38288",
   "metadata": {},
   "outputs": [
    {
     "name": "stdin",
     "output_type": "stream",
     "text": [
      "Enter first number : 8\n",
      "Enter second number : 4\n"
     ]
    },
    {
     "name": "stdout",
     "output_type": "stream",
     "text": [
      "\n",
      "Arithmetic Operations\n",
      "Add: 12.0\n",
      "Sub: 4.0\n",
      "Mul: 32.0\n",
      "Div: 2.0\n",
      "Mod: 0.0\n"
     ]
    }
   ],
   "source": [
    "a=float(input(\"Enter first number :\"))\n",
    "b=float(input(\"Enter second number :\"))\n",
    "\n",
    "c=a+b\n",
    "d=a-b\n",
    "e=a*b \n",
    "f=a/b\n",
    "g=a%b\n",
    "\n",
    "print(\"\\nArithmetic Operations\")\n",
    "print(\"Add:\",c)\n",
    "print(\"Sub:\",d)\n",
    "print(\"Mul:\",e)\n",
    "print(\"Div:\",f)\n",
    "print(\"Mod:\",g)"
   ]
  },
  {
   "cell_type": "code",
   "execution_count": 11,
   "id": "5906c381-d76c-4a4a-b6db-fcc7ffe8c681",
   "metadata": {},
   "outputs": [
    {
     "name": "stdin",
     "output_type": "stream",
     "text": [
      "Enter first string: rainy\n",
      "Enter second string: sunny\n"
     ]
    },
    {
     "name": "stdout",
     "output_type": "stream",
     "text": [
      "\n",
      "String Operations:\n",
      "Concatenated string: rainysunny\n",
      "len of s1: 5\n",
      "len of s2: 5\n",
      "s1 in uppercase: RAINY\n",
      "s2 in lowercase: sunny\n"
     ]
    }
   ],
   "source": [
    "s1=input(\"Enter first string:\")\n",
    "s2=input(\"Enter second string:\")\n",
    "\n",
    "concat=s1+\"\"+s2\n",
    "\n",
    "l1=len(s1)\n",
    "l2=len(s2)\n",
    "\n",
    "u1=s1.upper()\n",
    "lw2=s2.lower()\n",
    "\n",
    "print(\"\\nString Operations:\")\n",
    "print(\"Concatenated string:\",concat)\n",
    "print(\"len of s1:\",l1)\n",
    "print(\"len of s2:\",l2)\n",
    "print(\"s1 in uppercase:\",u1)\n",
    "print(\"s2 in lowercase:\",lw2)"
   ]
  },
  {
   "cell_type": "code",
   "execution_count": 15,
   "id": "f78e1237-0912-4018-81d5-f2b669966471",
   "metadata": {},
   "outputs": [
    {
     "name": "stdin",
     "output_type": "stream",
     "text": [
      "Enter first boolean value: 1\n",
      "Enter second boolean value: 0\n"
     ]
    },
    {
     "name": "stdout",
     "output_type": "stream",
     "text": [
      "\n",
      "---Boolean Operations---\n",
      "True AND False= False\n",
      "True OR False= True\n",
      "NOT True = False\n"
     ]
    }
   ],
   "source": [
    "a=bool(int(input(\"Enter first boolean value:\")))\n",
    "b=bool(int(input(\"Enter second boolean value:\")))\n",
    "\n",
    "and_r=a and b\n",
    "or_r=a or b\n",
    "not_a= not a\n",
    "\n",
    "print(\"\\n---Boolean Operations---\")\n",
    "print(f\"{a} AND {b}= {and_r}\")\n",
    "print(f\"{a} OR {b}= {or_r}\")\n",
    "print(f\"NOT {a} = {not_a}\")"
   ]
  },
  {
   "cell_type": "code",
   "execution_count": 16,
   "id": "8fcaa524-ae1e-40bb-9899-97cc3d5d99a3",
   "metadata": {},
   "outputs": [
    {
     "name": "stdout",
     "output_type": "stream",
     "text": [
      "List:\n",
      "list: [1, -2, 3]\n",
      "Tuple:\n",
      "tuple: (10, 20, 30)\n",
      "Set:\n",
      "set: {1, 2, 3}\n",
      "\n",
      "---Dictionary---\n",
      "name: Hadeela\n",
      "age: 22\n"
     ]
    }
   ],
   "source": [
    "print(\"List:\")\n",
    "my_l=[1,-2,3]\n",
    "print(\"list:\",my_l)\n",
    "\n",
    "print(\"Tuple:\")\n",
    "my_t=(10,20,30)\n",
    "print(\"tuple:\",my_t)\n",
    "\n",
    "print(\"Set:\")\n",
    "my_s={1,2,3}\n",
    "print(\"set:\",my_s)\n",
    "\n",
    "\n",
    "print(\"\\n---Dictionary---\")\n",
    "my_d={'name':'Hadeela','age':22}\n",
    "print(\"name:\",my_d['name'])\n",
    "print(\"age:\",my_d['age'])"
   ]
  },
  {
   "cell_type": "code",
   "execution_count": 19,
   "id": "96d9e5f3-015d-44d1-8ace-d5fa182c04e5",
   "metadata": {},
   "outputs": [
    {
     "name": "stdin",
     "output_type": "stream",
     "text": [
      "Enter numbers in list:  22 4 5 6 7\n"
     ]
    },
    {
     "name": "stdout",
     "output_type": "stream",
     "text": [
      "The largest number in the list is: 22\n"
     ]
    }
   ],
   "source": [
    "a= input(\"Enter numbers in list: \")\n",
    "\n",
    "num = list(map(int,a.split()))\n",
    "\n",
    "largest = max(num)  \n",
    "\n",
    "print(\"The largest number in the list is:\", largest)"
   ]
  },
  {
   "cell_type": "code",
   "execution_count": 20,
   "id": "d9ada07d-738a-4819-aca5-7307e4eee3f0",
   "metadata": {},
   "outputs": [
    {
     "name": "stdin",
     "output_type": "stream",
     "text": [
      "Enter numbers in list : 23,12,5,6\n"
     ]
    },
    {
     "name": "stdout",
     "output_type": "stream",
     "text": [
      "The largest number in the list is: 23\n"
     ]
    }
   ],
   "source": [
    "num = input(\"Enter numbers in list :\")\n",
    "\n",
    "num_list=list(map(int,num.split(',')))\n",
    "\n",
    "largest = num_list[0]\n",
    "\n",
    "for num in num_list:\n",
    "    if num > largest:\n",
    "        largest=num\n",
    "\n",
    "print(\"The largest number in the list is:\", largest)"
   ]
  },
  {
   "cell_type": "code",
   "execution_count": 23,
   "id": "4ee134a9-375a-477c-a9ea-d1d71e59b659",
   "metadata": {},
   "outputs": [
    {
     "name": "stdin",
     "output_type": "stream",
     "text": [
      "Enter numbers in list:  22 11 33 55 42\n"
     ]
    },
    {
     "name": "stdout",
     "output_type": "stream",
     "text": [
      "Unique numbers in list : [11, 22, 33, 42, 55]\n"
     ]
    }
   ],
   "source": [
    "num = input(\"Enter numbers in list: \")\n",
    "\n",
    "num_list = list(map(int, num.split()))\n",
    "\n",
    "uniq_list=list(set(num_list))\n",
    "\n",
    "uniq_list.sort()\n",
    "\n",
    "print(\"Unique numbers in list :\",uniq_list)"
   ]
  },
  {
   "cell_type": "code",
   "execution_count": 24,
   "id": "44bdf306-e726-4356-89ec-3716e0378005",
   "metadata": {},
   "outputs": [
    {
     "name": "stdin",
     "output_type": "stream",
     "text": [
      "Enter numbers in list : 22 34 55 60 12\n"
     ]
    },
    {
     "name": "stdout",
     "output_type": "stream",
     "text": [
      "Unique numbers in list : [22, 34, 55, 60, 12]\n"
     ]
    }
   ],
   "source": [
    "num = input(\"Enter numbers in list :\")\n",
    "\n",
    "num_list=list(map(int,num.split()))\n",
    "\n",
    "uniq_list = []\n",
    "\n",
    "for n in num_list:\n",
    "    if n not in uniq_list:\n",
    "        uniq_list.append(n)\n",
    "\n",
    "print(\"Unique numbers in list :\",uniq_list)"
   ]
  },
  {
   "cell_type": "code",
   "execution_count": null,
   "id": "f77104fe-e5f6-4550-a8ac-53b85f45657c",
   "metadata": {},
   "outputs": [],
   "source": []
  }
 ],
 "metadata": {
  "kernelspec": {
   "display_name": "Python 3 (ipykernel)",
   "language": "python",
   "name": "python3"
  },
  "language_info": {
   "codemirror_mode": {
    "name": "ipython",
    "version": 3
   },
   "file_extension": ".py",
   "mimetype": "text/x-python",
   "name": "python",
   "nbconvert_exporter": "python",
   "pygments_lexer": "ipython3",
   "version": "3.11.7"
  }
 },
 "nbformat": 4,
 "nbformat_minor": 5
}
