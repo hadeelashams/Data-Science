{
 "cells": [
  {
   "cell_type": "code",
   "execution_count": 5,
   "id": "98fd437c-7c27-4f2c-bec5-ffe99b7374f8",
   "metadata": {},
   "outputs": [
    {
     "name": "stdout",
     "output_type": "stream",
     "text": [
      "Matrix a:\n",
      " [[1 2]\n",
      " [3 4]]\n",
      "Matrix b:\n",
      " [[5 6]\n",
      " [7 8]]\n",
      "\n",
      "Addition:\n",
      " [[ 6  8]\n",
      " [10 12]]\n",
      "\n",
      "Substraction:\n",
      " [[-4 -4]\n",
      " [-4 -4]]\n",
      "\n",
      "Multiplication:\n",
      " [[ 5 12]\n",
      " [21 32]]\n",
      "\n",
      "Transpose:\n",
      " [[1 3]\n",
      " [2 4]]\n",
      "\n",
      "Dot product:\n",
      " [[19 22]\n",
      " [43 50]]\n"
     ]
    }
   ],
   "source": [
    "import numpy as np\n",
    "\n",
    "a=np.array([[1,2],[3,4]])\n",
    "b=np.array([[5,6],[7,8]])\n",
    "\n",
    "add=a+b\n",
    "sub=a-b\n",
    "mul=a*b\n",
    "trans=a.T\n",
    "dot=a@b\n",
    "\n",
    "print(\"Matrix a:\\n\",a)\n",
    "print(\"Matrix b:\\n\",b)\n",
    "print(\"\\nAddition:\\n\",add)\n",
    "print(\"\\nSubstraction:\\n\",sub)\n",
    "print(\"\\nMultiplication:\\n\",mul)\n",
    "print(\"\\nTranspose:\\n\",trans)\n",
    "print(\"\\nDot product:\\n\",dot)"
   ]
  },
  {
   "cell_type": "code",
   "execution_count": 7,
   "id": "5abcfb67-6830-462b-9e2a-48b5cd22466b",
   "metadata": {},
   "outputs": [
    {
     "name": "stdout",
     "output_type": "stream",
     "text": [
      "Original Matrix:\n",
      "[[1 2 3]\n",
      " [4 5 6]\n",
      " [7 8 9]]\n",
      "\n",
      "Reconstructed Matrix(with reduce dimensions):\n",
      "[[1. 2. 3.]\n",
      " [4. 5. 6.]\n",
      " [7. 8. 9.]]\n"
     ]
    }
   ],
   "source": [
    "import numpy as np\n",
    "\n",
    "X=np.array([[1,2,3],[4,5,6],[7,8,9]])\n",
    "U,S,VT=np.linalg.svd(X)\n",
    "n_comp=2\n",
    "x_recon=np.dot(U[:,:n_comp],np.dot(np.diag(S[:n_comp]),VT[:n_comp,:]))\n",
    "print(\"Original Matrix:\")\n",
    "print(X)\n",
    "print(\"\\nReconstructed Matrix(with reduce dimensions):\")\n",
    "print(x_recon)"
   ]
  },
  {
   "cell_type": "code",
   "execution_count": null,
   "id": "b261d88d-ba4d-462c-bd98-703f89615399",
   "metadata": {},
   "outputs": [],
   "source": []
  }
 ],
 "metadata": {
  "kernelspec": {
   "display_name": "Python 3 (ipykernel)",
   "language": "python",
   "name": "python3"
  },
  "language_info": {
   "codemirror_mode": {
    "name": "ipython",
    "version": 3
   },
   "file_extension": ".py",
   "mimetype": "text/x-python",
   "name": "python",
   "nbconvert_exporter": "python",
   "pygments_lexer": "ipython3",
   "version": "3.11.7"
  }
 },
 "nbformat": 4,
 "nbformat_minor": 5
}
